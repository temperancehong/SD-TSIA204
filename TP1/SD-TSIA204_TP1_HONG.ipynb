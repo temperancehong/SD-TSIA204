{
 "cells": [
  {
   "cell_type": "code",
   "execution_count": 1,
   "id": "a52ddb30",
   "metadata": {},
   "outputs": [],
   "source": [
    "# dependencies\n",
    "import numpy as np\n",
    "import pandas as pd\n",
    "import matplotlib.pyplot as plt"
   ]
  },
  {
   "cell_type": "code",
   "execution_count": 2,
   "id": "fbe5e1ef",
   "metadata": {},
   "outputs": [
    {
     "data": {
      "text/html": [
       "<div>\n",
       "<style scoped>\n",
       "    .dataframe tbody tr th:only-of-type {\n",
       "        vertical-align: middle;\n",
       "    }\n",
       "\n",
       "    .dataframe tbody tr th {\n",
       "        vertical-align: top;\n",
       "    }\n",
       "\n",
       "    .dataframe thead th {\n",
       "        text-align: right;\n",
       "    }\n",
       "</style>\n",
       "<table border=\"1\" class=\"dataframe\">\n",
       "  <thead>\n",
       "    <tr style=\"text-align: right;\">\n",
       "      <th></th>\n",
       "      <th>year</th>\n",
       "      <th>gnp</th>\n",
       "      <th>invest</th>\n",
       "      <th>cpi</th>\n",
       "      <th>interest</th>\n",
       "    </tr>\n",
       "  </thead>\n",
       "  <tbody>\n",
       "    <tr>\n",
       "      <th>0</th>\n",
       "      <td>1968</td>\n",
       "      <td>873.4</td>\n",
       "      <td>133.3</td>\n",
       "      <td>82.54</td>\n",
       "      <td>5.16</td>\n",
       "    </tr>\n",
       "    <tr>\n",
       "      <th>1</th>\n",
       "      <td>1969</td>\n",
       "      <td>944.0</td>\n",
       "      <td>149.3</td>\n",
       "      <td>86.79</td>\n",
       "      <td>5.87</td>\n",
       "    </tr>\n",
       "    <tr>\n",
       "      <th>2</th>\n",
       "      <td>1970</td>\n",
       "      <td>992.7</td>\n",
       "      <td>144.2</td>\n",
       "      <td>91.45</td>\n",
       "      <td>5.95</td>\n",
       "    </tr>\n",
       "    <tr>\n",
       "      <th>3</th>\n",
       "      <td>1971</td>\n",
       "      <td>1077.6</td>\n",
       "      <td>166.4</td>\n",
       "      <td>96.01</td>\n",
       "      <td>4.88</td>\n",
       "    </tr>\n",
       "    <tr>\n",
       "      <th>4</th>\n",
       "      <td>1972</td>\n",
       "      <td>1185.9</td>\n",
       "      <td>195.0</td>\n",
       "      <td>100.00</td>\n",
       "      <td>4.50</td>\n",
       "    </tr>\n",
       "    <tr>\n",
       "      <th>5</th>\n",
       "      <td>1973</td>\n",
       "      <td>1326.4</td>\n",
       "      <td>229.8</td>\n",
       "      <td>105.75</td>\n",
       "      <td>6.44</td>\n",
       "    </tr>\n",
       "    <tr>\n",
       "      <th>6</th>\n",
       "      <td>1974</td>\n",
       "      <td>1434.2</td>\n",
       "      <td>228.7</td>\n",
       "      <td>115.08</td>\n",
       "      <td>7.83</td>\n",
       "    </tr>\n",
       "    <tr>\n",
       "      <th>7</th>\n",
       "      <td>1975</td>\n",
       "      <td>1549.2</td>\n",
       "      <td>206.1</td>\n",
       "      <td>125.79</td>\n",
       "      <td>6.25</td>\n",
       "    </tr>\n",
       "    <tr>\n",
       "      <th>8</th>\n",
       "      <td>1976</td>\n",
       "      <td>1718.0</td>\n",
       "      <td>257.9</td>\n",
       "      <td>132.34</td>\n",
       "      <td>5.50</td>\n",
       "    </tr>\n",
       "    <tr>\n",
       "      <th>9</th>\n",
       "      <td>1977</td>\n",
       "      <td>1918.3</td>\n",
       "      <td>324.1</td>\n",
       "      <td>140.05</td>\n",
       "      <td>5.46</td>\n",
       "    </tr>\n",
       "    <tr>\n",
       "      <th>10</th>\n",
       "      <td>1978</td>\n",
       "      <td>2163.9</td>\n",
       "      <td>386.6</td>\n",
       "      <td>150.42</td>\n",
       "      <td>7.46</td>\n",
       "    </tr>\n",
       "    <tr>\n",
       "      <th>11</th>\n",
       "      <td>1979</td>\n",
       "      <td>2417.8</td>\n",
       "      <td>423.0</td>\n",
       "      <td>163.42</td>\n",
       "      <td>10.28</td>\n",
       "    </tr>\n",
       "    <tr>\n",
       "      <th>12</th>\n",
       "      <td>1980</td>\n",
       "      <td>2633.1</td>\n",
       "      <td>402.3</td>\n",
       "      <td>178.64</td>\n",
       "      <td>11.77</td>\n",
       "    </tr>\n",
       "    <tr>\n",
       "      <th>13</th>\n",
       "      <td>1981</td>\n",
       "      <td>2937.7</td>\n",
       "      <td>471.5</td>\n",
       "      <td>195.51</td>\n",
       "      <td>13.42</td>\n",
       "    </tr>\n",
       "    <tr>\n",
       "      <th>14</th>\n",
       "      <td>1982</td>\n",
       "      <td>3057.5</td>\n",
       "      <td>421.9</td>\n",
       "      <td>207.23</td>\n",
       "      <td>11.02</td>\n",
       "    </tr>\n",
       "  </tbody>\n",
       "</table>\n",
       "</div>"
      ],
      "text/plain": [
       "    year     gnp  invest     cpi  interest\n",
       "0   1968   873.4   133.3   82.54      5.16\n",
       "1   1969   944.0   149.3   86.79      5.87\n",
       "2   1970   992.7   144.2   91.45      5.95\n",
       "3   1971  1077.6   166.4   96.01      4.88\n",
       "4   1972  1185.9   195.0  100.00      4.50\n",
       "5   1973  1326.4   229.8  105.75      6.44\n",
       "6   1974  1434.2   228.7  115.08      7.83\n",
       "7   1975  1549.2   206.1  125.79      6.25\n",
       "8   1976  1718.0   257.9  132.34      5.50\n",
       "9   1977  1918.3   324.1  140.05      5.46\n",
       "10  1978  2163.9   386.6  150.42      7.46\n",
       "11  1979  2417.8   423.0  163.42     10.28\n",
       "12  1980  2633.1   402.3  178.64     11.77\n",
       "13  1981  2937.7   471.5  195.51     13.42\n",
       "14  1982  3057.5   421.9  207.23     11.02"
      ]
     },
     "execution_count": 2,
     "metadata": {},
     "output_type": "execute_result"
    }
   ],
   "source": [
    "# part1\n",
    "# read in the data into a dataframce with pandas\n",
    "df = pd.read_csv('invest.txt',delimiter=' ')\n",
    "df"
   ]
  },
  {
   "cell_type": "code",
   "execution_count": 12,
   "id": "1392a5eb",
   "metadata": {},
   "outputs": [
    {
     "data": {
      "image/png": "[encoded data removed]",
      "text/plain": [
       "<Figure size 640x480 with 1 Axes>"
      ]
     },
     "metadata": {},
     "output_type": "display_data"
    }
   ],
   "source": [
    "# part2\n",
    "# Plot the data with Gross National Product (GNP, column “gnp”) being the abscissa and Investment (column “invest”) being the ordinate\n",
    "plt.scatter(df['gnp'],df['invest'])\n",
    "plt.xlabel(\"GNP\")\n",
    "plt.ylabel(\"Invest\")\n",
    "plt.show()"
   ]
  },
  {
   "cell_type": "code",
   "execution_count": 6,
   "id": "54898bdd",
   "metadata": {},
   "outputs": [
    {
     "data": {
      "text/html": [
       "<div>\n",
       "<style scoped>\n",
       "    .dataframe tbody tr th:only-of-type {\n",
       "        vertical-align: middle;\n",
       "    }\n",
       "\n",
       "    .dataframe tbody tr th {\n",
       "        vertical-align: top;\n",
       "    }\n",
       "\n",
       "    .dataframe thead th {\n",
       "        text-align: right;\n",
       "    }\n",
       "</style>\n",
       "<table border=\"1\" class=\"dataframe\">\n",
       "  <thead>\n",
       "    <tr style=\"text-align: right;\">\n",
       "      <th></th>\n",
       "      <th>year</th>\n",
       "      <th>gnp</th>\n",
       "      <th>invest</th>\n",
       "      <th>cpi</th>\n",
       "      <th>interest</th>\n",
       "      <th>gnp_log</th>\n",
       "      <th>invest_log</th>\n",
       "    </tr>\n",
       "  </thead>\n",
       "  <tbody>\n",
       "    <tr>\n",
       "      <th>0</th>\n",
       "      <td>1968</td>\n",
       "      <td>873.4</td>\n",
       "      <td>133.3</td>\n",
       "      <td>82.54</td>\n",
       "      <td>5.16</td>\n",
       "      <td>6.772394</td>\n",
       "      <td>4.892602</td>\n",
       "    </tr>\n",
       "    <tr>\n",
       "      <th>1</th>\n",
       "      <td>1969</td>\n",
       "      <td>944.0</td>\n",
       "      <td>149.3</td>\n",
       "      <td>86.79</td>\n",
       "      <td>5.87</td>\n",
       "      <td>6.850126</td>\n",
       "      <td>5.005958</td>\n",
       "    </tr>\n",
       "    <tr>\n",
       "      <th>2</th>\n",
       "      <td>1970</td>\n",
       "      <td>992.7</td>\n",
       "      <td>144.2</td>\n",
       "      <td>91.45</td>\n",
       "      <td>5.95</td>\n",
       "      <td>6.900429</td>\n",
       "      <td>4.971201</td>\n",
       "    </tr>\n",
       "    <tr>\n",
       "      <th>3</th>\n",
       "      <td>1971</td>\n",
       "      <td>1077.6</td>\n",
       "      <td>166.4</td>\n",
       "      <td>96.01</td>\n",
       "      <td>4.88</td>\n",
       "      <td>6.982492</td>\n",
       "      <td>5.114395</td>\n",
       "    </tr>\n",
       "    <tr>\n",
       "      <th>4</th>\n",
       "      <td>1972</td>\n",
       "      <td>1185.9</td>\n",
       "      <td>195.0</td>\n",
       "      <td>100.00</td>\n",
       "      <td>4.50</td>\n",
       "      <td>7.078257</td>\n",
       "      <td>5.273000</td>\n",
       "    </tr>\n",
       "    <tr>\n",
       "      <th>5</th>\n",
       "      <td>1973</td>\n",
       "      <td>1326.4</td>\n",
       "      <td>229.8</td>\n",
       "      <td>105.75</td>\n",
       "      <td>6.44</td>\n",
       "      <td>7.190224</td>\n",
       "      <td>5.437209</td>\n",
       "    </tr>\n",
       "    <tr>\n",
       "      <th>6</th>\n",
       "      <td>1974</td>\n",
       "      <td>1434.2</td>\n",
       "      <td>228.7</td>\n",
       "      <td>115.08</td>\n",
       "      <td>7.83</td>\n",
       "      <td>7.268362</td>\n",
       "      <td>5.432411</td>\n",
       "    </tr>\n",
       "    <tr>\n",
       "      <th>7</th>\n",
       "      <td>1975</td>\n",
       "      <td>1549.2</td>\n",
       "      <td>206.1</td>\n",
       "      <td>125.79</td>\n",
       "      <td>6.25</td>\n",
       "      <td>7.345494</td>\n",
       "      <td>5.328361</td>\n",
       "    </tr>\n",
       "    <tr>\n",
       "      <th>8</th>\n",
       "      <td>1976</td>\n",
       "      <td>1718.0</td>\n",
       "      <td>257.9</td>\n",
       "      <td>132.34</td>\n",
       "      <td>5.50</td>\n",
       "      <td>7.448916</td>\n",
       "      <td>5.552572</td>\n",
       "    </tr>\n",
       "    <tr>\n",
       "      <th>9</th>\n",
       "      <td>1977</td>\n",
       "      <td>1918.3</td>\n",
       "      <td>324.1</td>\n",
       "      <td>140.05</td>\n",
       "      <td>5.46</td>\n",
       "      <td>7.559195</td>\n",
       "      <td>5.781052</td>\n",
       "    </tr>\n",
       "    <tr>\n",
       "      <th>10</th>\n",
       "      <td>1978</td>\n",
       "      <td>2163.9</td>\n",
       "      <td>386.6</td>\n",
       "      <td>150.42</td>\n",
       "      <td>7.46</td>\n",
       "      <td>7.679667</td>\n",
       "      <td>5.957391</td>\n",
       "    </tr>\n",
       "    <tr>\n",
       "      <th>11</th>\n",
       "      <td>1979</td>\n",
       "      <td>2417.8</td>\n",
       "      <td>423.0</td>\n",
       "      <td>163.42</td>\n",
       "      <td>10.28</td>\n",
       "      <td>7.790613</td>\n",
       "      <td>6.047372</td>\n",
       "    </tr>\n",
       "    <tr>\n",
       "      <th>12</th>\n",
       "      <td>1980</td>\n",
       "      <td>2633.1</td>\n",
       "      <td>402.3</td>\n",
       "      <td>178.64</td>\n",
       "      <td>11.77</td>\n",
       "      <td>7.875917</td>\n",
       "      <td>5.997198</td>\n",
       "    </tr>\n",
       "    <tr>\n",
       "      <th>13</th>\n",
       "      <td>1981</td>\n",
       "      <td>2937.7</td>\n",
       "      <td>471.5</td>\n",
       "      <td>195.51</td>\n",
       "      <td>13.42</td>\n",
       "      <td>7.985382</td>\n",
       "      <td>6.155919</td>\n",
       "    </tr>\n",
       "    <tr>\n",
       "      <th>14</th>\n",
       "      <td>1982</td>\n",
       "      <td>3057.5</td>\n",
       "      <td>421.9</td>\n",
       "      <td>207.23</td>\n",
       "      <td>11.02</td>\n",
       "      <td>8.025353</td>\n",
       "      <td>6.044768</td>\n",
       "    </tr>\n",
       "  </tbody>\n",
       "</table>\n",
       "</div>"
      ],
      "text/plain": [
       "    year     gnp  invest     cpi  interest   gnp_log  invest_log\n",
       "0   1968   873.4   133.3   82.54      5.16  6.772394    4.892602\n",
       "1   1969   944.0   149.3   86.79      5.87  6.850126    5.005958\n",
       "2   1970   992.7   144.2   91.45      5.95  6.900429    4.971201\n",
       "3   1971  1077.6   166.4   96.01      4.88  6.982492    5.114395\n",
       "4   1972  1185.9   195.0  100.00      4.50  7.078257    5.273000\n",
       "5   1973  1326.4   229.8  105.75      6.44  7.190224    5.437209\n",
       "6   1974  1434.2   228.7  115.08      7.83  7.268362    5.432411\n",
       "7   1975  1549.2   206.1  125.79      6.25  7.345494    5.328361\n",
       "8   1976  1718.0   257.9  132.34      5.50  7.448916    5.552572\n",
       "9   1977  1918.3   324.1  140.05      5.46  7.559195    5.781052\n",
       "10  1978  2163.9   386.6  150.42      7.46  7.679667    5.957391\n",
       "11  1979  2417.8   423.0  163.42     10.28  7.790613    6.047372\n",
       "12  1980  2633.1   402.3  178.64     11.77  7.875917    5.997198\n",
       "13  1981  2937.7   471.5  195.51     13.42  7.985382    6.155919\n",
       "14  1982  3057.5   421.9  207.23     11.02  8.025353    6.044768"
      ]
     },
     "execution_count": 6,
     "metadata": {},
     "output_type": "execute_result"
    }
   ],
   "source": [
    "# note\n",
    "# transform the two above columns into logarithm\n",
    "df['gnp_log'] = np.log(df['gnp'])\n",
    "df['invest_log'] = np.log(df['invest'])\n",
    "df"
   ]
  },
  {
   "cell_type": "markdown",
   "id": "d9aa068e",
   "metadata": {},
   "source": [
    "For a fix design one dimensional model, we have \n",
    "\n",
    "$$\n",
    "y_i = \\beta_0 + \\beta_1 x_i + \\epsilon_i\n",
    "$$\n",
    "\n",
    "and we have $\\hat \\beta_0 = \\bar y_n - \\hat\\beta_1 \\bar x_n$ and $\\hat \\beta_1 = \\frac{\\sum_{i=1}^n (x_i - \\bar x_n)(y_i-\\bar y_n)}{\\sum_{i=1}^n (x_i - \\bar x_n)^2}$\n",
    "\n",
    "Here we have GNP log as random variable $X$ and invest log as $Y$.\n",
    "\n",
    "$\\beta_0$ is the intercept, and $\\beta_1$ is the slope. The determination coefficient is\n",
    "\n",
    "$$\n",
    "R^2 = 1- \\frac{||y-\\hat y||^2}{||y-\\bar y||^2}\n",
    "$$"
   ]
  },
  {
   "cell_type": "code",
   "execution_count": 13,
   "id": "ff06eb2f",
   "metadata": {},
   "outputs": [
    {
     "data": {
      "image/png": "[encoded data removed]",
      "text/plain": [
       "<Figure size 640x480 with 1 Axes>"
      ]
     },
     "metadata": {},
     "output_type": "display_data"
    }
   ],
   "source": [
    "# plot the x and y in scatter\n",
    "plt.scatter(df['gnp_log'],df['invest_log'])\n",
    "plt.xlabel(\"log(GNP)\")\n",
    "plt.ylabel(\"log(Invest)\")\n",
    "plt.show()"
   ]
  },
  {
   "cell_type": "code",
   "execution_count": 14,
   "id": "4a462c9c",
   "metadata": {},
   "outputs": [
    {
     "data": {
      "text/plain": [
       "(1.015281401598871, -1.9635913352301815)"
      ]
     },
     "execution_count": 14,
     "metadata": {},
     "output_type": "execute_result"
    }
   ],
   "source": [
    "# part3\n",
    "# For the linear regression of Investment on GNP, estimate the intercept and the slope and their\n",
    "# standard deviations, as well as the determination coefficient for the ordinary least squares. Output\n",
    "# them in a readable form\n",
    "\n",
    "# get the mean of x and y\n",
    "mean_x = df['gnp_log'].mean()\n",
    "mean_y = df['invest_log'].mean()\n",
    "\n",
    "beta_1_hat = ((df['gnp_log']-mean_x) * (df['invest_log']-mean_y)).sum() / (((df['gnp_log']-mean_x)**2).sum())\n",
    "beta_0_hat = mean_y - beta_1_hat * mean_x\n",
    "beta_1_hat, beta_0_hat"
   ]
  },
  {
   "cell_type": "markdown",
   "id": "d29b4aff",
   "metadata": {},
   "source": [
    "We then look at the standard deviation of these two coefficients.\n",
    "\n",
    "$\\hat\\sigma ^2$ is the unbiased estimator for $\\sigma^2$, where:\n",
    "\n",
    "$$\\hat \\sigma^2=\\frac{1}{n-2}\\sum_{i=1}^n(Y_i - (\\hat\\beta_0 + \\hat\\beta_1x_i))^2 $$\n",
    "\n",
    "and we have\n",
    "\n",
    "$$\\mathbb{V}[\\hat\\beta_0] = \\hat\\sigma^2(\\frac{1}{n}+\\frac{\\bar x^2}{\\sum_{i=1}^n(x_i-\\bar x)^2}) $$\n",
    "\n",
    "$$\\mathbb{V}[\\hat\\beta_1] = (\\frac{\\hat \\sigma^2}{\\sum_{i=1}^n(x_i-\\bar x)^2}) $$"
   ]
  },
  {
   "cell_type": "code",
   "execution_count": 22,
   "id": "377fb7b2",
   "metadata": {},
   "outputs": [
    {
     "data": {
      "text/plain": [
       "(0.4095472716623081, 0.05538306035485281)"
      ]
     },
     "execution_count": 22,
     "metadata": {},
     "output_type": "execute_result"
    }
   ],
   "source": [
    "# calculate the sigma hat\n",
    "n = 15\n",
    "sigma_hat_2 = 1/(n-2) *(((df['invest_log'] - (beta_0_hat + beta_1_hat * df['gnp_log']))**2).sum())\n",
    "\n",
    "# variance of beta_0\n",
    "var_beta0 = sigma_hat_2 * (1/n + mean_x**2/(((df['gnp_log']-mean_x)**2).sum()))\n",
    "std_beta0 = np.sqrt(var_beta0)\n",
    "var_beta1 = sigma_hat_2 / (((df['gnp_log']-mean_x)**2).sum())\n",
    "std_beta1 = np.sqrt(var_beta1)\n",
    "std_beta0, std_beta1"
   ]
  },
  {
   "cell_type": "markdown",
   "id": "712336c9",
   "metadata": {},
   "source": [
    "The determination coefficient is\n",
    "\n",
    "$$\n",
    "R^2 = 1- \\frac{||y-\\hat y||^2}{||y-\\bar y||^2}\n",
    "$$"
   ]
  },
  {
   "cell_type": "code",
   "execution_count": 24,
   "id": "0ee0cc7e",
   "metadata": {},
   "outputs": [
    {
     "data": {
      "text/plain": [
       "0.9627572956057855"
      ]
     },
     "execution_count": 24,
     "metadata": {},
     "output_type": "execute_result"
    }
   ],
   "source": [
    "# calculate the determination coeff\n",
    "y_hat = beta_0_hat + beta_1_hat * df['gnp_log']\n",
    "R2 = 1- (((df['invest_log'] - y_hat)**2).sum())/(((df['invest_log'] - mean_y)**2).sum())\n",
    "R2"
   ]
  },
  {
   "cell_type": "code",
   "execution_count": 35,
   "id": "1cb2cd1d",
   "metadata": {},
   "outputs": [
    {
     "name": "stdout",
     "output_type": "stream",
     "text": [
      "Determination coefficient is 0.9627572956057855\n"
     ]
    },
    {
     "data": {
      "text/html": [
       "<div>\n",
       "<style scoped>\n",
       "    .dataframe tbody tr th:only-of-type {\n",
       "        vertical-align: middle;\n",
       "    }\n",
       "\n",
       "    .dataframe tbody tr th {\n",
       "        vertical-align: top;\n",
       "    }\n",
       "\n",
       "    .dataframe thead th {\n",
       "        text-align: right;\n",
       "    }\n",
       "</style>\n",
       "<table border=\"1\" class=\"dataframe\">\n",
       "  <thead>\n",
       "    <tr style=\"text-align: right;\">\n",
       "      <th></th>\n",
       "      <th>beta0</th>\n",
       "      <th>beta1</th>\n",
       "    </tr>\n",
       "    <tr>\n",
       "      <th>item</th>\n",
       "      <th></th>\n",
       "      <th></th>\n",
       "    </tr>\n",
       "  </thead>\n",
       "  <tbody>\n",
       "    <tr>\n",
       "      <th>value</th>\n",
       "      <td>-1.963591</td>\n",
       "      <td>1.015281</td>\n",
       "    </tr>\n",
       "    <tr>\n",
       "      <th>std</th>\n",
       "      <td>0.409547</td>\n",
       "      <td>0.055383</td>\n",
       "    </tr>\n",
       "  </tbody>\n",
       "</table>\n",
       "</div>"
      ],
      "text/plain": [
       "          beta0     beta1\n",
       "item                     \n",
       "value -1.963591  1.015281\n",
       "std    0.409547  0.055383"
      ]
     },
     "execution_count": 35,
     "metadata": {},
     "output_type": "execute_result"
    }
   ],
   "source": [
    "# show the result in a visible way\n",
    "res3 = pd.DataFrame([[\"value\",beta_0_hat, beta_1_hat],[\"std\", std_beta0, std_beta1]], columns=[\"item\",\"beta0\",\"beta1\"])\n",
    "print(\"Determination coefficient is\",R2)\n",
    "res3.set_index(\"item\")"
   ]
  },
  {
   "cell_type": "code",
   "execution_count": 18,
   "id": "744edb9a",
   "metadata": {},
   "outputs": [
    {
     "data": {
      "image/png": "[encoded data removed]",
      "text/plain": [
       "<Figure size 640x480 with 1 Axes>"
      ]
     },
     "metadata": {},
     "output_type": "display_data"
    }
   ],
   "source": [
    "# plot the linear regression result\n",
    "x_axis = np.linspace(df['gnp_log'].min(), df['gnp_log'].max(), 20)\n",
    "y_axis = x_axis * beta_1_hat + beta_0_hat\n",
    "\n",
    "plt.scatter(df['gnp_log'],df['invest_log'], c='r',label = 'data points')\n",
    "plt.plot(x_axis, y_axis, label=\"Regression result\")\n",
    "plt.xlabel(\"log(GNP)\")\n",
    "plt.ylabel(\"log(Invest)\")\n",
    "plt.legend()\n",
    "plt.show()"
   ]
  },
  {
   "cell_type": "markdown",
   "id": "aff6f4bf",
   "metadata": {},
   "source": [
    "The t-statistics is defined as follow:\n",
    "\n",
    "$$t_{\\hat\\beta} = \\frac{\\hat \\beta - \\beta_0}{SE(\\hat \\beta)}$$\n",
    "\n",
    "where $\\beta_0$ is a known non-random constant and $SE(\\hat \\beta)$ is the standard error of the estimator, which we have calculated the standard deviation of $\\beta$"
   ]
  },
  {
   "cell_type": "code",
   "execution_count": null,
   "id": "ee995a33",
   "metadata": {},
   "outputs": [],
   "source": [
    "# part 4\n",
    "# Test the significance of the slope using the Student-t test. Report the value of the test statistic and\n",
    "# the p-value.\n",
    "\n",
    "# here for the null hypothesis we have the known constant = 0\n",
    "t_stat = beta_1_hat/std_beta1"
   ]
  }
 ],
 "metadata": {
  "kernelspec": {
   "display_name": "ima-env",
   "language": "python",
   "name": "ima-env"
  },
  "language_info": {
   "codemirror_mode": {
    "name": "ipython",
    "version": 3
   },
   "file_extension": ".py",
   "mimetype": "text/x-python",
   "name": "python",
   "nbconvert_exporter": "python",
   "pygments_lexer": "ipython3",
   "version": "3.11.5"
  }
 },
 "nbformat": 4,
 "nbformat_minor": 5
}
